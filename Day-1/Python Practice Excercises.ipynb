{
 "cells": [
  {
   "cell_type": "markdown",
   "metadata": {},
   "source": [
    "<p>Write a Python program that accepts an integer (n) and computes the value of n+nn+nnn.</p>\n",
    "<p> Go to the editor </p>\n",
    "<p>Sample value of n is 5 </p>\n",
    "Expected Result : 615"
   ]
  },
  {
   "cell_type": "code",
   "execution_count": 7,
   "metadata": {},
   "outputs": [
    {
     "data": {
      "text/plain": [
       "615"
      ]
     },
     "execution_count": 7,
     "metadata": {},
     "output_type": "execute_result"
    }
   ],
   "source": [
    "def manipulation(n):\n",
    "    n1=str(n)\n",
    "    n2=n1*2\n",
    "    n3=n1*3\n",
    "    return int(n1)+int(n2)+int(n3)\n",
    "manipulation(5)"
   ]
  },
  {
   "cell_type": "markdown",
   "metadata": {},
   "source": [
    "Create a program that asks the user to enter their name and their age.\n",
    "Print out a message addressed to them that tells them the year that they will turn 100 years old.\n",
    "\n"
   ]
  },
  {
   "cell_type": "code",
   "execution_count": 10,
   "metadata": {},
   "outputs": [
    {
     "name": "stdout",
     "output_type": "stream",
     "text": [
      "Taran will turn 100 by 2099\n"
     ]
    }
   ],
   "source": [
    "name=input()\n",
    "age=int(input())\n",
    "year=2022+100-age\n",
    "print(\"{0} will turn 100 by {1}\".format(name,year))"
   ]
  },
  {
   "cell_type": "markdown",
   "metadata": {},
   "source": [
    "Write a Python program to check a triangle is valid or not"
   ]
  },
  {
   "cell_type": "code",
   "execution_count": 16,
   "metadata": {},
   "outputs": [
    {
     "name": "stdout",
     "output_type": "stream",
     "text": [
      "Valid Triangle\n"
     ]
    }
   ],
   "source": [
    "a,b,c=int(input()),int(input()),int(input())\n",
    "if a+b<=c or abs((a-b))>c:\n",
    "    print(\"Invalid Triangle\")\n",
    "else:\n",
    "    print(\"Valid Triangle\")"
   ]
  },
  {
   "cell_type": "markdown",
   "metadata": {},
   "source": [
    "Write a Python program to construct the following pattern, using a nested loop number.\n",
    "1                                                                                                             \n",
    "22                                                                                                            \n",
    "333                                                                                                           \n",
    "4444                                                                                                          \n",
    "55555                                                                                                         \n",
    "666666                                                                                                        \n",
    "7777777                                                                                                       \n",
    "88888888                                                                                                      \n",
    "999999999  "
   ]
  },
  {
   "cell_type": "code",
   "execution_count": 20,
   "metadata": {},
   "outputs": [
    {
     "name": "stdout",
     "output_type": "stream",
     "text": [
      "\n",
      "22\n",
      "333\n",
      "4444\n",
      "55555\n",
      "666666\n",
      "7777777\n",
      "88888888\n",
      "999999999\n"
     ]
    }
   ],
   "source": [
    "for i in range (10):\n",
    "    if i==1:\n",
    "        continue\n",
    "    for j in range(i):\n",
    "        print(i, end=\"\")\n",
    "    print()"
   ]
  },
  {
   "cell_type": "code",
   "execution_count": 9,
   "metadata": {},
   "outputs": [],
   "source": [
    "#  Write a Python program to construct the following pattern, using a nested for loop.\n",
    "# * \n",
    "# * * \n",
    "# * * * \n",
    "# * * * * \n",
    "# * * * * * \n",
    "# * * * * \n",
    "# * * * \n",
    "# * * \n",
    "# *"
   ]
  },
  {
   "cell_type": "code",
   "execution_count": 24,
   "metadata": {},
   "outputs": [
    {
     "name": "stdout",
     "output_type": "stream",
     "text": [
      "\n",
      "*\n",
      "**\n",
      "***\n",
      "****\n",
      "*****\n",
      "****\n",
      "***\n",
      "**\n",
      "*\n"
     ]
    }
   ],
   "source": [
    "for i in range(5):\n",
    "    for j in range(i):\n",
    "        print(\"*\", end=\"\")\n",
    "    print(\"\")\n",
    "\n",
    "for i in range(5,0,-1):\n",
    "    for j in range(i):\n",
    "        print(\"*\",end=\"\")\n",
    "    print(\"\")\n"
   ]
  },
  {
   "cell_type": "code",
   "execution_count": 10,
   "metadata": {},
   "outputs": [],
   "source": [
    "# Write a Python program that accepts a string and calculate the number of digits and letters\n",
    "# Sample Data : \"Python 3.2\"\n",
    "# Expected Output :\n",
    "# Letters 6 \n",
    "# Digits 2"
   ]
  },
  {
   "cell_type": "code",
   "execution_count": 27,
   "metadata": {},
   "outputs": [
    {
     "name": "stdout",
     "output_type": "stream",
     "text": [
      "Letters 5\n",
      "Digits 4\n"
     ]
    }
   ],
   "source": [
    "s=input()\n",
    "d=0\n",
    "l=0\n",
    "for i in s:\n",
    "    if i.isdigit():\n",
    "        d+=1\n",
    "    if i.isalpha():\n",
    "        l+=1\n",
    "print(\"Letters \"+str(l))\n",
    "print(\"Digits \"+str(d))"
   ]
  },
  {
   "cell_type": "code",
   "execution_count": 11,
   "metadata": {},
   "outputs": [],
   "source": [
    "# Count the number of even and odd numbers from a series of numbers\n",
    "# Input \n",
    "# numbers = (1, 2, 3, 4, 5, 6, 7, 8, 9) # Declaring the tuple\n",
    "# Output\n",
    "# Number of even numbers : 4                                                                                    \n",
    "# Number of odd numbers : 5 "
   ]
  },
  {
   "cell_type": "code",
   "execution_count": 28,
   "metadata": {},
   "outputs": [
    {
     "name": "stdout",
     "output_type": "stream",
     "text": [
      "Number of even numbers :2\n",
      "Number of odd numbers 4\n"
     ]
    }
   ],
   "source": [
    "l=list(map(int, input().split()))\n",
    "e=0\n",
    "o=0\n",
    "for i in l:\n",
    "    if i%2==0:\n",
    "        e+=1\n",
    "    else:\n",
    "        o+=1\n",
    "print(\"Number of even numbers :\"+str(e))\n",
    "print(\"Number of odd numbers \"+str(o))        "
   ]
  },
  {
   "cell_type": "code",
   "execution_count": 12,
   "metadata": {},
   "outputs": [],
   "source": [
    "# Write a Python program to get the Fibonacci series between 0 to 50"
   ]
  },
  {
   "cell_type": "code",
   "execution_count": 37,
   "metadata": {},
   "outputs": [
    {
     "name": "stdout",
     "output_type": "stream",
     "text": [
      "0 1 1 2 3 5 8 13 21 34 \n"
     ]
    }
   ],
   "source": [
    "a=0\n",
    "b=1\n",
    "c=0\n",
    "print(a,b,end=\" \")\n",
    "while a+b<=50:\n",
    "    c=a+b\n",
    "    a=b\n",
    "    b=c\n",
    "    print(c, end=\" \")\n",
    "print()"
   ]
  },
  {
   "cell_type": "code",
   "execution_count": 13,
   "metadata": {},
   "outputs": [],
   "source": [
    "#  Write a Python program to find those numbers which are divisible by 7 and multiple of 5, between 1500 and 2700\n"
   ]
  },
  {
   "cell_type": "code",
   "execution_count": 40,
   "metadata": {},
   "outputs": [
    {
     "name": "stdout",
     "output_type": "stream",
     "text": [
      "1505 1540 1575 1610 1645 1680 1715 1750 1785 1820 1855 1890 1925 1960 1995 2030 2065 2100 2135 2170 2205 2240 2275 2310 2345 2380 2415 2450 2485 2520 2555 2590 2625 2660 2695 "
     ]
    }
   ],
   "source": [
    "for i in range(1500,2700):\n",
    "    if i%7==0 and i%5==0:\n",
    "        print(i, end=\" \")"
   ]
  },
  {
   "cell_type": "code",
   "execution_count": 14,
   "metadata": {},
   "outputs": [],
   "source": [
    "# Generate a random number between 1 and 9 (including 1 and 9).\n",
    "# Ask the user to guess the number, then tell them whether they guessed too low, too high, or exactly right. "
   ]
  },
  {
   "cell_type": "code",
   "execution_count": 42,
   "metadata": {},
   "outputs": [
    {
     "name": "stdout",
     "output_type": "stream",
     "text": [
      "Too high\n"
     ]
    }
   ],
   "source": [
    "import random\n",
    "r=random.randint(1,9)\n",
    "n=int(input(\"Guess the number between 1 and 9 :\"))\n",
    "if n==r:\n",
    "    print(\"Excatly right\")\n",
    "elif n>r:\n",
    "    print(\"Too high\")\n",
    "else:\n",
    "    print(\"Too low\")"
   ]
  },
  {
   "cell_type": "code",
   "execution_count": 15,
   "metadata": {},
   "outputs": [],
   "source": [
    "# Write a Python program to check the validity of a password (input from users).\n",
    "# Validation :\n",
    "# At least 1 letter between [a-z] and 1 letter between [A-Z].\n",
    "# At least 1 number between [0-9].\n",
    "# At least 1 character from [$#@].\n",
    "# Minimum length 6 characters.\n",
    "# Maximum length 16 characters.\n",
    "# Input\n",
    "# W3r@100a\n",
    "# Output\n",
    "# Valid password"
   ]
  },
  {
   "cell_type": "code",
   "execution_count": 3,
   "metadata": {},
   "outputs": [
    {
     "name": "stdout",
     "output_type": "stream",
     "text": [
      "Valid password\n"
     ]
    }
   ],
   "source": [
    "s=input()\n",
    "l,u,d,m=0,0,0,0\n",
    "if(len(s) >= 6 and len(s)<= 16):\n",
    "    for i in s:\n",
    "        if(i.islower()):\n",
    "            l+=1\n",
    "        if(i.isupper()):\n",
    "            u+=1\n",
    "        if(i.isdigit()):\n",
    "            d+=1\n",
    "        if(i=='$' or i=='#' or i=='@'):\n",
    "            m+=1\n",
    "if(l>=1 and u>=1 and d>=1 and m>=1):\n",
    "    print(\"Valid password\")\n",
    "else:\n",
    "    print(\"Invalid password\")\n"
   ]
  },
  {
   "cell_type": "code",
   "execution_count": 16,
   "metadata": {},
   "outputs": [],
   "source": [
    "# Write a Python program to check a triangle is equilateral, isosceles or scalene.\n",
    "# Note :\n",
    "# An equilateral triangle is a triangle in which all three sides are equal.\n",
    "# A scalene triangle is a triangle that has three unequal sides.\n",
    "# An isosceles triangle is a triangle with (at least) two equal sides."
   ]
  },
  {
   "cell_type": "code",
   "execution_count": 46,
   "metadata": {},
   "outputs": [
    {
     "name": "stdout",
     "output_type": "stream",
     "text": [
      "Scalar Triangle\n"
     ]
    }
   ],
   "source": [
    "a,b,c=input(),input(),input()\n",
    "if(a==b==c):\n",
    "    print(\"Equilateral Triangle\")\n",
    "elif a==b or b==c or c==a:\n",
    "    print(\"Isoceles Triangle\")\n",
    "else:\n",
    "    print(\"Scalene Triangle\")"
   ]
  },
  {
   "cell_type": "code",
   "execution_count": 17,
   "metadata": {},
   "outputs": [],
   "source": [
    "# Write a Python program to check whether an alphabet is a vowel or consonant\n"
   ]
  },
  {
   "cell_type": "code",
   "execution_count": 48,
   "metadata": {},
   "outputs": [
    {
     "name": "stdout",
     "output_type": "stream",
     "text": [
      "a is a vowel\n"
     ]
    }
   ],
   "source": [
    "v=['a','e','i','o','u']\n",
    "s=input()\n",
    "if s in v:\n",
    "    print(s+ \" is a vowel\")\n",
    "else:\n",
    "    print(\" is a consonant\")"
   ]
  },
  {
   "cell_type": "code",
   "execution_count": 18,
   "metadata": {},
   "outputs": [],
   "source": [
    "# Write a Python program to check whether a list contains a sublist.\n",
    "# Input\n",
    "# a = [2,4,3,5,7]\n",
    "# b = [4,3]\n",
    "# c = [3,7]\n",
    "# print(is_Sublist(a, b))\n",
    "# print(is_Sublist(a, c))\n",
    "# Output"
   ]
  },
  {
   "cell_type": "code",
   "execution_count": 4,
   "metadata": {},
   "outputs": [
    {
     "name": "stdout",
     "output_type": "stream",
     "text": [
      "Sublist\n"
     ]
    }
   ],
   "source": [
    "def is_Sublist(a,b):\n",
    "    if(all(i in a for i in b)):\n",
    "        print(\"Sublist\")\n",
    "    else:\n",
    "        print(\"Not a sublist\")\n",
    "\n",
    "a=list(map(int,input().split()))\n",
    "b=list(map(int,input().split()))\n",
    "is_Sublist(a,b)\n"
   ]
  },
  {
   "cell_type": "code",
   "execution_count": 19,
   "metadata": {},
   "outputs": [],
   "source": [
    "# Write a Python program to find common items from two lists.\n",
    "# input\n",
    "# color1 = \"Red\", \"Green\", \"Orange\", \"White\"\n",
    "# color2 = \"Black\", \"Green\", \"White\", \"Pink\"\n",
    "# output\n",
    "# {'Green', 'White'}"
   ]
  },
  {
   "cell_type": "code",
   "execution_count": 49,
   "metadata": {},
   "outputs": [
    {
     "name": "stdout",
     "output_type": "stream",
     "text": [
      "4 "
     ]
    }
   ],
   "source": [
    "a=list(input().split())\n",
    "b=list(input().split())\n",
    "for i in a:\n",
    "    if i in b:\n",
    "        print(i,end=\" \")"
   ]
  },
  {
   "cell_type": "code",
   "execution_count": 20,
   "metadata": {},
   "outputs": [],
   "source": [
    "# Write a Python program to get the difference between the two lists\n",
    "# Input \n",
    "# list1 = [1, 2, 3, 4]\n",
    "# list2 = [1, 2]\n",
    "# Output\n",
    "# [3,4]"
   ]
  },
  {
   "cell_type": "code",
   "execution_count": 50,
   "metadata": {},
   "outputs": [
    {
     "name": "stdout",
     "output_type": "stream",
     "text": [
      "3 4 "
     ]
    }
   ],
   "source": [
    "a=list(input().split())\n",
    "b=list(input().split())\n",
    "for i in a:\n",
    "    if i not in b:\n",
    "        print(i,end=\" \")"
   ]
  },
  {
   "cell_type": "code",
   "execution_count": 21,
   "metadata": {},
   "outputs": [],
   "source": [
    "# Write a Python program to get the smallest number from a list.\n",
    "# max_num_in_list([1, 2, -8, 0])\n",
    "# return 2\n",
    "# Dont use max function "
   ]
  },
  {
   "cell_type": "code",
   "execution_count": 51,
   "metadata": {},
   "outputs": [
    {
     "data": {
      "text/plain": [
       "2"
      ]
     },
     "execution_count": 51,
     "metadata": {},
     "output_type": "execute_result"
    }
   ],
   "source": [
    "l=list(map(int,input().split()))\n",
    "l=sorted(l)\n",
    "print(l[0])"
   ]
  },
  {
   "cell_type": "code",
   "execution_count": 22,
   "metadata": {},
   "outputs": [],
   "source": [
    "# Write a Python program to get the frequency of the elements in a list.\n",
    "# input\n",
    "# my_list = [10,10,10,10,20,20,20,20,40,40,50,50,30]\n",
    "# outout\n",
    "# {10: 4, 20: 4, 40: 2, 50: 2, 30: 1}\n"
   ]
  },
  {
   "cell_type": "code",
   "execution_count": 57,
   "metadata": {},
   "outputs": [
    {
     "name": "stdout",
     "output_type": "stream",
     "text": [
      "{6: 2, 8: 1, 9: 3, 5: 1, 3: 2, 4: 1, 0: 1}\n"
     ]
    }
   ],
   "source": [
    "l=list(map(int,input().split()))\n",
    "d={}\n",
    "for i in l:\n",
    "    if i not in d:\n",
    "        d[i]=1\n",
    "    else:\n",
    "        d[i]+=1\n",
    "print(d)"
   ]
  },
  {
   "cell_type": "code",
   "execution_count": 23,
   "metadata": {},
   "outputs": [],
   "source": [
    "#  Write a Python program to generate all permutations of a list in Python\n",
    "# Input [1,2,3]\n",
    "# Output [(1, 2, 3), (1, 3, 2), (2, 1, 3), (2, 3, 1), (3, 1, 2), (3, 2, 1)]"
   ]
  },
  {
   "cell_type": "code",
   "execution_count": 60,
   "metadata": {},
   "outputs": [
    {
     "data": {
      "text/plain": [
       "[(7, 6, 5, 8),\n",
       " (7, 6, 8, 5),\n",
       " (7, 5, 6, 8),\n",
       " (7, 5, 8, 6),\n",
       " (7, 8, 6, 5),\n",
       " (7, 8, 5, 6),\n",
       " (6, 7, 5, 8),\n",
       " (6, 7, 8, 5),\n",
       " (6, 5, 7, 8),\n",
       " (6, 5, 8, 7),\n",
       " (6, 8, 7, 5),\n",
       " (6, 8, 5, 7),\n",
       " (5, 7, 6, 8),\n",
       " (5, 7, 8, 6),\n",
       " (5, 6, 7, 8),\n",
       " (5, 6, 8, 7),\n",
       " (5, 8, 7, 6),\n",
       " (5, 8, 6, 7),\n",
       " (8, 7, 6, 5),\n",
       " (8, 7, 5, 6),\n",
       " (8, 6, 7, 5),\n",
       " (8, 6, 5, 7),\n",
       " (8, 5, 7, 6),\n",
       " (8, 5, 6, 7)]"
      ]
     },
     "execution_count": 60,
     "metadata": {},
     "output_type": "execute_result"
    }
   ],
   "source": [
    "import itertools\n",
    "l=list(map(int,input().split()))\n",
    "list(itertools.permutations(l))"
   ]
  },
  {
   "cell_type": "code",
   "execution_count": 24,
   "metadata": {},
   "outputs": [],
   "source": [
    "# Write a Python program to remove duplicates from a list.\n",
    "# Input a = [10,20,30,20,10,50,60,40,80,50,40]\n",
    "# Output {40, 10, 80, 50, 20, 60, 30} "
   ]
  },
  {
   "cell_type": "code",
   "execution_count": 62,
   "metadata": {},
   "outputs": [
    {
     "name": "stdout",
     "output_type": "stream",
     "text": [
      "[0, 4, 5, 6, 7, 8]\n"
     ]
    }
   ],
   "source": [
    "l=list(map(int,input().split()))\n",
    "print(list(set(l)))"
   ]
  },
  {
   "cell_type": "code",
   "execution_count": 25,
   "metadata": {},
   "outputs": [],
   "source": [
    "# Write a Python program to find the second smallest number in a list.\n",
    "# input\n",
    "# second_smallest([1, 2, -8, -2, 0])\n",
    "# output\n",
    "# -2"
   ]
  },
  {
   "cell_type": "code",
   "execution_count": 68,
   "metadata": {},
   "outputs": [
    {
     "data": {
      "text/plain": [
       "5"
      ]
     },
     "execution_count": 68,
     "metadata": {},
     "output_type": "execute_result"
    }
   ],
   "source": [
    "l=list(map(int,input().split()))\n",
    "l=sorted(l)\n",
    "l[1]"
   ]
  },
  {
   "cell_type": "code",
   "execution_count": 26,
   "metadata": {},
   "outputs": [],
   "source": [
    "# Write a Python program to create a Caesar encryption\n",
    "# Note : In cryptography, a Caesar cipher, also known as Caesar's cipher, the shift cipher, Caesar's code or Caesar shift, is one of the simplest and most widely known encryption techniques.\n",
    "# It is a type of substitution cipher in which each letter in the plaintext is replaced by a letter some fixed number of positions down the alphabet.\n",
    "# For example, with a left shift of 3, D would be replaced by A, E would become B, and so on.\n",
    "# The method is named after Julius Caesar, who used it in his private correspondence.\n",
    "# plaintext:  defend the east wall of the castle\n",
    "# ciphertext: efgfoe uif fbtu xbmm pg uif dbtumf"
   ]
  },
  {
   "cell_type": "code",
   "execution_count": 14,
   "metadata": {},
   "outputs": [
    {
     "data": {
      "text/plain": [
       "'efgfoe uif fbtu xbmm pg uif dbtumf'"
      ]
     },
     "execution_count": 14,
     "metadata": {},
     "output_type": "execute_result"
    }
   ],
   "source": [
    "def cesar_encrytption(s):\n",
    "    res=\"\"\n",
    "    for i in range(len(s)):\n",
    "        c=s[i]\n",
    "        if(c==\" \"):\n",
    "            res+=c\n",
    "            continue\n",
    "        if(c.isupper()):\n",
    "            res+=chr((ord(c)+1-65)%26 +65)\n",
    "        else:\n",
    "            res+=chr((ord(c)+1-97)%26 +97)\n",
    "    return res\n",
    "\n",
    "cesar_encrytption(\"defend the east wall of the castle\")"
   ]
  },
  {
   "cell_type": "code",
   "execution_count": 27,
   "metadata": {},
   "outputs": [],
   "source": [
    "# Write a Python program to change a given string to a new string where the first and last chars have been exchanged"
   ]
  },
  {
   "cell_type": "code",
   "execution_count": 69,
   "metadata": {},
   "outputs": [
    {
     "name": "stdout",
     "output_type": "stream",
     "text": [
      "narat\n"
     ]
    }
   ],
   "source": [
    "s=input()\n",
    "t=s[-1]+s[1:-1]+s[0]\n",
    "print(t)"
   ]
  },
  {
   "cell_type": "code",
   "execution_count": 28,
   "metadata": {},
   "outputs": [],
   "source": [
    "# Write a Python program to count the number of characters (character frequency) in a string.\n",
    "# Expected Result : {'o': 3, 'g': 2, '.': 1, 'e': 1, 'l': 1, 'm': 1, 'c': 1}"
   ]
  },
  {
   "cell_type": "code",
   "execution_count": 70,
   "metadata": {},
   "outputs": [
    {
     "name": "stdout",
     "output_type": "stream",
     "text": [
      "{6: 5, 8: 1, 9: 2, 0: 1, 4: 1, 5: 1}\n"
     ]
    }
   ],
   "source": [
    "l=list(map(int,input().split()))\n",
    "d={}\n",
    "for i in l:\n",
    "    if i not in d:\n",
    "        d[i]=1\n",
    "    else:\n",
    "        d[i]+=1\n",
    "print(d)"
   ]
  }
 ],
 "metadata": {
  "kernelspec": {
   "display_name": "Python 3",
   "language": "python",
   "name": "python3"
  },
  "language_info": {
   "codemirror_mode": {
    "name": "ipython",
    "version": 3
   },
   "file_extension": ".py",
   "mimetype": "text/x-python",
   "name": "python",
   "nbconvert_exporter": "python",
   "pygments_lexer": "ipython3",
   "version": "3.8.9"
  }
 },
 "nbformat": 4,
 "nbformat_minor": 4
}
